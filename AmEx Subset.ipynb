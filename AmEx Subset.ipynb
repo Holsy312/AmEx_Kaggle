{
 "cells": [
  {
   "cell_type": "code",
   "execution_count": 1,
   "metadata": {},
   "outputs": [],
   "source": [
    "import numpy as np\n",
    "import pandas as pd\n",
    "import matplotlib.pyplot as plt"
   ]
  },
  {
   "cell_type": "code",
   "execution_count": null,
   "metadata": {},
   "outputs": [],
   "source": [
    "data = pd.read_csv('subset2.csv')"
   ]
  },
  {
   "cell_type": "code",
   "execution_count": null,
   "metadata": {},
   "outputs": [],
   "source": [
    "data=data.dropna(axis=1, thresh=)\n",
    "data.head()"
   ]
  },
  {
   "cell_type": "code",
   "execution_count": null,
   "metadata": {},
   "outputs": [],
   "source": [
    "data.shape"
   ]
  },
  {
   "cell_type": "code",
   "execution_count": null,
   "metadata": {},
   "outputs": [],
   "source": [
    "data.target.mean()"
   ]
  },
  {
   "cell_type": "code",
   "execution_count": null,
   "metadata": {},
   "outputs": [],
   "source": [
    "def df_dropna_by_thresh(raw_df, ratio):\n",
    "    if not 0 <= ratio <= 1:\n",
    "        print(\"Ratio must be between 0 and 1\")\n",
    "        return raw_df\n",
    "    else:\n",
    "        thresh = raw_df.shape[0] * ratio\n",
    "        return raw_df.dropna(axis=1, thresh=thresh)"
   ]
  },
  {
   "cell_type": "code",
   "execution_count": null,
   "metadata": {},
   "outputs": [],
   "source": [
    "data2 = pd.read_csv('subset2.csv')\n",
    "data2=data2.dropna(axis=1, thresh=12000)\n",
    "data2.shape"
   ]
  },
  {
   "cell_type": "code",
   "execution_count": null,
   "metadata": {},
   "outputs": [],
   "source": [
    "data3 = pd.read_csv('subset2.csv')\n",
    "data3=data3.dropna(axis=1, thresh=22500)\n",
    "data3.shape"
   ]
  },
  {
   "cell_type": "code",
   "execution_count": null,
   "metadata": {},
   "outputs": [],
   "source": [
    "def compare_columns_in_dfs(df1, df2):\n",
    "    if df1.shape[0] < df2.shape[0]:\n",
    "        df1, df2 = df2, df1\n",
    "    cols1 = df1.columns\n",
    "    cols2 = df2.columns\n",
    "    cols = [col for col in cols1 if col not in cols2]\n",
    "    for col in df1.columns:\n",
    "        if col not in df2.colu\n",
    "\n",
    "l=[]\n",
    "for i in data2.columns:\n",
    "    if i not in data3:\n",
    "        l.append(i)"
   ]
  },
  {
   "cell_type": "code",
   "execution_count": null,
   "metadata": {},
   "outputs": [],
   "source": [
    "l"
   ]
  },
  {
   "cell_type": "code",
   "execution_count": null,
   "metadata": {},
   "outputs": [],
   "source": [
    "data2.loc[data2['target'] == 1, 'S_3'].mean()"
   ]
  },
  {
   "cell_type": "code",
   "execution_count": null,
   "metadata": {},
   "outputs": [],
   "source": [
    "data2.loc[data2['target'] == 0, 'S_3'].mean()"
   ]
  },
  {
   "cell_type": "code",
   "execution_count": null,
   "metadata": {},
   "outputs": [],
   "source": [
    "for i in l:\n",
    "    print(i,data2.loc[data2['target'] == 1, i].mean(), data2.loc[data2['target'] == 0, i].mean(),\n",
    "          data2[i].std())"
   ]
  },
  {
   "cell_type": "code",
   "execution_count": null,
   "metadata": {},
   "outputs": [],
   "source": [
    "for i in l:\n",
    "    print(i,((data2.loc[data2['target'] == 1, i].mean())-(data2.loc[data2['target'] == 0, i].mean()))/data2[i].std())"
   ]
  },
  {
   "cell_type": "code",
   "execution_count": null,
   "metadata": {},
   "outputs": [],
   "source": [
    "#arbitrary threshold of 0.6 std dev differences"
   ]
  },
  {
   "cell_type": "code",
   "execution_count": null,
   "metadata": {},
   "outputs": [],
   "source": [
    "data4 = pd.read_csv('subset2.csv')\n",
    "data4.shape"
   ]
  },
  {
   "cell_type": "code",
   "execution_count": null,
   "metadata": {},
   "outputs": [],
   "source": [
    "l1=[]\n",
    "for i in data4.columns:\n",
    "    if i not in data3:\n",
    "        l1.append(i)"
   ]
  },
  {
   "cell_type": "code",
   "execution_count": null,
   "metadata": {},
   "outputs": [],
   "source": [
    "# columns to add to data 3 in list \"to_add\"\n",
    "to_add =[]\n",
    "\n",
    "for i in l1:\n",
    "    if data4[i].std() != 0:\n",
    "        if (((data4.loc[data4['target'] == 1, i].mean())-(data4.loc[data4['target'] == 0, i].mean()))/data4[i].std())>0.6:\n",
    "            to_add.append(i)"
   ]
  },
  {
   "cell_type": "code",
   "execution_count": null,
   "metadata": {},
   "outputs": [],
   "source": [
    "to_add"
   ]
  },
  {
   "cell_type": "code",
   "execution_count": null,
   "metadata": {},
   "outputs": [],
   "source": []
  }
 ],
 "metadata": {
  "kernelspec": {
   "display_name": "Python 3 (ipykernel)",
   "language": "python",
   "name": "python3"
  },
  "language_info": {
   "codemirror_mode": {
    "name": "ipython",
    "version": 3
   },
   "file_extension": ".py",
   "mimetype": "text/x-python",
   "name": "python",
   "nbconvert_exporter": "python",
   "pygments_lexer": "ipython3",
   "version": "3.9.7"
  }
 },
 "nbformat": 4,
 "nbformat_minor": 2
}
