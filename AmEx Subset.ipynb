{
 "cells": [
  {
   "cell_type": "code",
   "execution_count": 1,
   "metadata": {},
   "outputs": [],
   "source": [
    "import numpy as np\n",
    "import pandas as pd\n",
    "import matplotlib as plt\n",
    "from time import time"
   ]
  },
  {
   "cell_type": "code",
   "execution_count": 3,
   "metadata": {},
   "outputs": [],
   "source": [
    "data = pd.read_csv('subset2.csv')\n"
   ]
  },
  {
   "cell_type": "code",
   "execution_count": 7,
   "metadata": {},
   "outputs": [
    {
     "data": {
      "text/html": [
       "<div>\n",
       "<style scoped>\n",
       "    .dataframe tbody tr th:only-of-type {\n",
       "        vertical-align: middle;\n",
       "    }\n",
       "\n",
       "    .dataframe tbody tr th {\n",
       "        vertical-align: top;\n",
       "    }\n",
       "\n",
       "    .dataframe thead th {\n",
       "        text-align: right;\n",
       "    }\n",
       "</style>\n",
       "<table border=\"1\" class=\"dataframe\">\n",
       "  <thead>\n",
       "    <tr style=\"text-align: right;\">\n",
       "      <th></th>\n",
       "      <th>customer_ID</th>\n",
       "      <th>S_2</th>\n",
       "      <th>D_39</th>\n",
       "      <th>B_1</th>\n",
       "      <th>R_1</th>\n",
       "      <th>B_4</th>\n",
       "      <th>B_5</th>\n",
       "      <th>R_2</th>\n",
       "      <th>D_47</th>\n",
       "      <th>B_7</th>\n",
       "      <th>...</th>\n",
       "      <th>D_94</th>\n",
       "      <th>R_24</th>\n",
       "      <th>R_25</th>\n",
       "      <th>D_96</th>\n",
       "      <th>B_36</th>\n",
       "      <th>B_37</th>\n",
       "      <th>B_40</th>\n",
       "      <th>D_127</th>\n",
       "      <th>R_28</th>\n",
       "      <th>target</th>\n",
       "    </tr>\n",
       "  </thead>\n",
       "  <tbody>\n",
       "    <tr>\n",
       "      <th>0</th>\n",
       "      <td>0000099d6bd597052cdcda90ffabf56573fe9d7c79be5f...</td>\n",
       "      <td>2017-03-09</td>\n",
       "      <td>0.001733</td>\n",
       "      <td>0.008724</td>\n",
       "      <td>0.009228</td>\n",
       "      <td>0.080986</td>\n",
       "      <td>0.170600</td>\n",
       "      <td>0.006204</td>\n",
       "      <td>0.525351</td>\n",
       "      <td>0.059416</td>\n",
       "      <td>...</td>\n",
       "      <td>0.008871</td>\n",
       "      <td>0.003950</td>\n",
       "      <td>0.003647</td>\n",
       "      <td>0.004950</td>\n",
       "      <td>0.009968</td>\n",
       "      <td>0.004572</td>\n",
       "      <td>0.210060</td>\n",
       "      <td>1.003319</td>\n",
       "      <td>0.001535</td>\n",
       "      <td>0</td>\n",
       "    </tr>\n",
       "    <tr>\n",
       "      <th>1</th>\n",
       "      <td>0000099d6bd597052cdcda90ffabf56573fe9d7c79be5f...</td>\n",
       "      <td>2017-04-07</td>\n",
       "      <td>0.005775</td>\n",
       "      <td>0.004923</td>\n",
       "      <td>0.006151</td>\n",
       "      <td>0.069419</td>\n",
       "      <td>0.113239</td>\n",
       "      <td>0.006206</td>\n",
       "      <td>0.521311</td>\n",
       "      <td>0.057744</td>\n",
       "      <td>...</td>\n",
       "      <td>0.000391</td>\n",
       "      <td>0.008351</td>\n",
       "      <td>0.008850</td>\n",
       "      <td>0.003180</td>\n",
       "      <td>0.003921</td>\n",
       "      <td>0.004654</td>\n",
       "      <td>0.184093</td>\n",
       "      <td>1.008394</td>\n",
       "      <td>0.004931</td>\n",
       "      <td>0</td>\n",
       "    </tr>\n",
       "    <tr>\n",
       "      <th>2</th>\n",
       "      <td>0000099d6bd597052cdcda90ffabf56573fe9d7c79be5f...</td>\n",
       "      <td>2017-05-28</td>\n",
       "      <td>0.091505</td>\n",
       "      <td>0.021655</td>\n",
       "      <td>0.006815</td>\n",
       "      <td>0.068839</td>\n",
       "      <td>0.060492</td>\n",
       "      <td>0.003259</td>\n",
       "      <td>0.524568</td>\n",
       "      <td>0.056647</td>\n",
       "      <td>...</td>\n",
       "      <td>0.009234</td>\n",
       "      <td>0.002471</td>\n",
       "      <td>0.009769</td>\n",
       "      <td>0.005433</td>\n",
       "      <td>0.001264</td>\n",
       "      <td>0.019176</td>\n",
       "      <td>0.154837</td>\n",
       "      <td>1.009307</td>\n",
       "      <td>0.009123</td>\n",
       "      <td>0</td>\n",
       "    </tr>\n",
       "    <tr>\n",
       "      <th>3</th>\n",
       "      <td>0000099d6bd597052cdcda90ffabf56573fe9d7c79be5f...</td>\n",
       "      <td>2017-06-13</td>\n",
       "      <td>0.002455</td>\n",
       "      <td>0.013683</td>\n",
       "      <td>0.001373</td>\n",
       "      <td>0.055630</td>\n",
       "      <td>0.166782</td>\n",
       "      <td>0.009918</td>\n",
       "      <td>0.530929</td>\n",
       "      <td>0.049253</td>\n",
       "      <td>...</td>\n",
       "      <td>0.003200</td>\n",
       "      <td>0.008507</td>\n",
       "      <td>0.004858</td>\n",
       "      <td>0.000063</td>\n",
       "      <td>0.002729</td>\n",
       "      <td>0.011720</td>\n",
       "      <td>0.153939</td>\n",
       "      <td>1.001671</td>\n",
       "      <td>0.002409</td>\n",
       "      <td>0</td>\n",
       "    </tr>\n",
       "    <tr>\n",
       "      <th>4</th>\n",
       "      <td>0000099d6bd597052cdcda90ffabf56573fe9d7c79be5f...</td>\n",
       "      <td>2017-07-16</td>\n",
       "      <td>0.002483</td>\n",
       "      <td>0.015193</td>\n",
       "      <td>0.007605</td>\n",
       "      <td>0.038862</td>\n",
       "      <td>0.143630</td>\n",
       "      <td>0.006667</td>\n",
       "      <td>0.529305</td>\n",
       "      <td>0.048918</td>\n",
       "      <td>...</td>\n",
       "      <td>0.003845</td>\n",
       "      <td>0.007190</td>\n",
       "      <td>0.002983</td>\n",
       "      <td>0.000535</td>\n",
       "      <td>0.009998</td>\n",
       "      <td>0.017598</td>\n",
       "      <td>0.120717</td>\n",
       "      <td>1.009886</td>\n",
       "      <td>0.004462</td>\n",
       "      <td>0</td>\n",
       "    </tr>\n",
       "  </tbody>\n",
       "</table>\n",
       "<p>5 rows × 74 columns</p>\n",
       "</div>"
      ],
      "text/plain": [
       "                                         customer_ID         S_2      D_39  \\\n",
       "0  0000099d6bd597052cdcda90ffabf56573fe9d7c79be5f...  2017-03-09  0.001733   \n",
       "1  0000099d6bd597052cdcda90ffabf56573fe9d7c79be5f...  2017-04-07  0.005775   \n",
       "2  0000099d6bd597052cdcda90ffabf56573fe9d7c79be5f...  2017-05-28  0.091505   \n",
       "3  0000099d6bd597052cdcda90ffabf56573fe9d7c79be5f...  2017-06-13  0.002455   \n",
       "4  0000099d6bd597052cdcda90ffabf56573fe9d7c79be5f...  2017-07-16  0.002483   \n",
       "\n",
       "        B_1       R_1       B_4       B_5       R_2      D_47       B_7  \\\n",
       "0  0.008724  0.009228  0.080986  0.170600  0.006204  0.525351  0.059416   \n",
       "1  0.004923  0.006151  0.069419  0.113239  0.006206  0.521311  0.057744   \n",
       "2  0.021655  0.006815  0.068839  0.060492  0.003259  0.524568  0.056647   \n",
       "3  0.013683  0.001373  0.055630  0.166782  0.009918  0.530929  0.049253   \n",
       "4  0.015193  0.007605  0.038862  0.143630  0.006667  0.529305  0.048918   \n",
       "\n",
       "    ...        D_94      R_24      R_25      D_96      B_36      B_37  \\\n",
       "0   ...    0.008871  0.003950  0.003647  0.004950  0.009968  0.004572   \n",
       "1   ...    0.000391  0.008351  0.008850  0.003180  0.003921  0.004654   \n",
       "2   ...    0.009234  0.002471  0.009769  0.005433  0.001264  0.019176   \n",
       "3   ...    0.003200  0.008507  0.004858  0.000063  0.002729  0.011720   \n",
       "4   ...    0.003845  0.007190  0.002983  0.000535  0.009998  0.017598   \n",
       "\n",
       "       B_40     D_127      R_28  target  \n",
       "0  0.210060  1.003319  0.001535       0  \n",
       "1  0.184093  1.008394  0.004931       0  \n",
       "2  0.154837  1.009307  0.009123       0  \n",
       "3  0.153939  1.001671  0.002409       0  \n",
       "4  0.120717  1.009886  0.004462       0  \n",
       "\n",
       "[5 rows x 74 columns]"
      ]
     },
     "execution_count": 7,
     "metadata": {},
     "output_type": "execute_result"
    }
   ],
   "source": [
    "data=data.dropna(axis=1, thresh=)\n",
    "data.head()"
   ]
  },
  {
   "cell_type": "code",
   "execution_count": 8,
   "metadata": {},
   "outputs": [
    {
     "data": {
      "text/plain": [
       "(25000, 74)"
      ]
     },
     "execution_count": 8,
     "metadata": {},
     "output_type": "execute_result"
    }
   ],
   "source": [
    "data.shape"
   ]
  },
  {
   "cell_type": "code",
   "execution_count": 10,
   "metadata": {},
   "outputs": [
    {
     "data": {
      "text/plain": [
       "0.258"
      ]
     },
     "execution_count": 10,
     "metadata": {},
     "output_type": "execute_result"
    }
   ],
   "source": [
    "data.target.mean()"
   ]
  },
  {
   "cell_type": "code",
   "execution_count": 11,
   "metadata": {},
   "outputs": [
    {
     "data": {
      "text/plain": [
       "(25000, 161)"
      ]
     },
     "execution_count": 11,
     "metadata": {},
     "output_type": "execute_result"
    }
   ],
   "source": [
    "data2 = pd.read_csv('subset2.csv')\n",
    "data2=data2.dropna(axis=1, thresh=12000)\n",
    "data2.shape"
   ]
  },
  {
   "cell_type": "code",
   "execution_count": 12,
   "metadata": {},
   "outputs": [
    {
     "data": {
      "text/plain": [
       "(25000, 152)"
      ]
     },
     "execution_count": 12,
     "metadata": {},
     "output_type": "execute_result"
    }
   ],
   "source": [
    "data3 = pd.read_csv('subset2.csv')\n",
    "data3=data3.dropna(axis=1, thresh=22500)\n",
    "data3.shape"
   ]
  },
  {
   "cell_type": "code",
   "execution_count": 14,
   "metadata": {},
   "outputs": [],
   "source": [
    "l=[]\n",
    "for i in data2.columns:\n",
    "    if i not in data3:\n",
    "        l.append(i)"
   ]
  },
  {
   "cell_type": "code",
   "execution_count": 15,
   "metadata": {},
   "outputs": [
    {
     "data": {
      "text/plain": [
       "['S_3', 'D_43', 'D_46', 'D_48', 'S_7', 'D_61', 'D_62', 'D_77', 'S_27']"
      ]
     },
     "execution_count": 15,
     "metadata": {},
     "output_type": "execute_result"
    }
   ],
   "source": [
    "l"
   ]
  },
  {
   "cell_type": "code",
   "execution_count": 17,
   "metadata": {},
   "outputs": [
    {
     "data": {
      "text/plain": [
       "0.32975552564977006"
      ]
     },
     "execution_count": 17,
     "metadata": {},
     "output_type": "execute_result"
    }
   ],
   "source": [
    "data2.loc[data2['target'] == 1, 'S_3'].mean()"
   ]
  },
  {
   "cell_type": "code",
   "execution_count": 18,
   "metadata": {},
   "outputs": [
    {
     "data": {
      "text/plain": [
       "0.18257575974139745"
      ]
     },
     "execution_count": 18,
     "metadata": {},
     "output_type": "execute_result"
    }
   ],
   "source": [
    "data2.loc[data2['target'] == 0, 'S_3'].mean()"
   ]
  },
  {
   "cell_type": "code",
   "execution_count": 27,
   "metadata": {},
   "outputs": [
    {
     "name": "stdout",
     "output_type": "stream",
     "text": [
      "S_3 0.32975552564977006 0.18257575974139745 0.19631381440004747\n",
      "D_43 0.26034797990133074 0.11174019200633122 0.21665945815307378\n",
      "D_46 0.5149209993821803 0.4570210453340668 0.166575530126841\n",
      "D_48 0.6881157739242055 0.26891487894068666 0.3286105584918224\n",
      "S_7 0.3360242956662876 0.17395178704318745 0.20484573516815047\n",
      "D_61 0.721607537748031 0.3271820257600694 0.3431296357095582\n",
      "D_62 0.058618426294076265 0.2394651684586748 0.21635405171378724\n",
      "D_77 0.08872471465437141 0.2920776977820832 0.21574892972409832\n",
      "S_27 0.27678106702038174 0.2752076631727387 0.3245659388868539\n"
     ]
    }
   ],
   "source": [
    "for i in l:\n",
    "    print(i,data2.loc[data2['target'] == 1, i].mean(), data2.loc[data2['target'] == 0, i].mean(),\n",
    "          data2[i].std())"
   ]
  },
  {
   "cell_type": "code",
   "execution_count": 28,
   "metadata": {},
   "outputs": [
    {
     "name": "stdout",
     "output_type": "stream",
     "text": [
      "S_3 0.7497168060137138\n",
      "D_43 0.6859049180765765\n",
      "D_46 0.34758979307479826\n",
      "D_48 1.275676889103826\n",
      "S_7 0.791192984760267\n",
      "D_61 1.1494941588835037\n",
      "D_62 -0.8358833159447321\n",
      "D_77 -0.9425445743242453\n",
      "S_27 0.004847717086516402\n"
     ]
    }
   ],
   "source": [
    "for i in l:\n",
    "    print(i,((data2.loc[data2['target'] == 1, i].mean())-(data2.loc[data2['target'] == 0, i].mean()))/data2[i].std())"
   ]
  },
  {
   "cell_type": "code",
   "execution_count": null,
   "metadata": {},
   "outputs": [],
   "source": [
    "#arbitrary threshold of 0.6 std dev differences"
   ]
  },
  {
   "cell_type": "code",
   "execution_count": 29,
   "metadata": {},
   "outputs": [
    {
     "data": {
      "text/plain": [
       "(25000, 191)"
      ]
     },
     "execution_count": 29,
     "metadata": {},
     "output_type": "execute_result"
    }
   ],
   "source": [
    "data4 = pd.read_csv('subset2.csv')\n",
    "data4.shape"
   ]
  },
  {
   "cell_type": "code",
   "execution_count": 32,
   "metadata": {},
   "outputs": [],
   "source": [
    "l1=[]\n",
    "for i in data4.columns:\n",
    "    if i not in data3:\n",
    "        l1.append(i)"
   ]
  },
  {
   "cell_type": "code",
   "execution_count": 36,
   "metadata": {},
   "outputs": [],
   "source": [
    "# columns to add to data 3 in list \"to_add\"\n",
    "to_add =[]\n",
    "\n",
    "for i in l1:\n",
    "    if data4[i].std() != 0:\n",
    "        if (((data4.loc[data4['target'] == 1, i].mean())-(data4.loc[data4['target'] == 0, i].mean()))/data4[i].std())>0.6:\n",
    "            to_add.append(i)"
   ]
  },
  {
   "cell_type": "code",
   "execution_count": 37,
   "metadata": {},
   "outputs": [
    {
     "data": {
      "text/plain": [
       "['S_3', 'D_42', 'D_43', 'D_48', 'S_7', 'D_61']"
      ]
     },
     "execution_count": 37,
     "metadata": {},
     "output_type": "execute_result"
    }
   ],
   "source": [
    "to_add"
   ]
  },
  {
   "cell_type": "code",
   "execution_count": null,
   "metadata": {},
   "outputs": [],
   "source": []
  }
 ],
 "metadata": {
  "kernelspec": {
   "display_name": "Python 3",
   "language": "python",
   "name": "python3"
  },
  "language_info": {
   "codemirror_mode": {
    "name": "ipython",
    "version": 3
   },
   "file_extension": ".py",
   "mimetype": "text/x-python",
   "name": "python",
   "nbconvert_exporter": "python",
   "pygments_lexer": "ipython3",
   "version": "3.7.1"
  }
 },
 "nbformat": 4,
 "nbformat_minor": 2
}
