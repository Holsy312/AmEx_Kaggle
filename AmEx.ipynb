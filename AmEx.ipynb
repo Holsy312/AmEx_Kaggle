{
 "cells": [
  {
   "cell_type": "code",
   "execution_count": 1,
   "metadata": {},
   "outputs": [],
   "source": [
    "import numpy as np\n",
    "import pandas as pd\n",
    "import matplotlib as plt\n",
    "from time import time"
   ]
  },
  {
   "cell_type": "code",
   "execution_count": 2,
   "metadata": {},
   "outputs": [],
   "source": [
    "data=pd.read_csv('train_data.csv')\n",
    "labels=pd.read_csv('train_labels.csv')"
   ]
  },
  {
   "cell_type": "code",
   "execution_count": 3,
   "metadata": {},
   "outputs": [
    {
     "data": {
      "text/html": [
       "<div>\n",
       "<style scoped>\n",
       "    .dataframe tbody tr th:only-of-type {\n",
       "        vertical-align: middle;\n",
       "    }\n",
       "\n",
       "    .dataframe tbody tr th {\n",
       "        vertical-align: top;\n",
       "    }\n",
       "\n",
       "    .dataframe thead th {\n",
       "        text-align: right;\n",
       "    }\n",
       "</style>\n",
       "<table border=\"1\" class=\"dataframe\">\n",
       "  <thead>\n",
       "    <tr style=\"text-align: right;\">\n",
       "      <th></th>\n",
       "      <th>customer_ID</th>\n",
       "      <th>target</th>\n",
       "    </tr>\n",
       "  </thead>\n",
       "  <tbody>\n",
       "    <tr>\n",
       "      <th>0</th>\n",
       "      <td>0000099d6bd597052cdcda90ffabf56573fe9d7c79be5f...</td>\n",
       "      <td>0</td>\n",
       "    </tr>\n",
       "    <tr>\n",
       "      <th>1</th>\n",
       "      <td>00000fd6641609c6ece5454664794f0340ad84dddce9a2...</td>\n",
       "      <td>0</td>\n",
       "    </tr>\n",
       "    <tr>\n",
       "      <th>2</th>\n",
       "      <td>00001b22f846c82c51f6e3958ccd81970162bae8b007e8...</td>\n",
       "      <td>0</td>\n",
       "    </tr>\n",
       "    <tr>\n",
       "      <th>3</th>\n",
       "      <td>000041bdba6ecadd89a52d11886e8eaaec9325906c9723...</td>\n",
       "      <td>0</td>\n",
       "    </tr>\n",
       "    <tr>\n",
       "      <th>4</th>\n",
       "      <td>00007889e4fcd2614b6cbe7f8f3d2e5c728eca32d9eb8a...</td>\n",
       "      <td>0</td>\n",
       "    </tr>\n",
       "  </tbody>\n",
       "</table>\n",
       "</div>"
      ],
      "text/plain": [
       "                                         customer_ID  target\n",
       "0  0000099d6bd597052cdcda90ffabf56573fe9d7c79be5f...       0\n",
       "1  00000fd6641609c6ece5454664794f0340ad84dddce9a2...       0\n",
       "2  00001b22f846c82c51f6e3958ccd81970162bae8b007e8...       0\n",
       "3  000041bdba6ecadd89a52d11886e8eaaec9325906c9723...       0\n",
       "4  00007889e4fcd2614b6cbe7f8f3d2e5c728eca32d9eb8a...       0"
      ]
     },
     "execution_count": 3,
     "metadata": {},
     "output_type": "execute_result"
    }
   ],
   "source": [
    "# we can shrink data significantly just by using index and dropping customer_ID (after \n",
    "# joining it with labels)\n",
    "labels.head()"
   ]
  },
  {
   "cell_type": "code",
   "execution_count": 4,
   "metadata": {},
   "outputs": [
    {
     "data": {
      "text/html": [
       "<div>\n",
       "<style scoped>\n",
       "    .dataframe tbody tr th:only-of-type {\n",
       "        vertical-align: middle;\n",
       "    }\n",
       "\n",
       "    .dataframe tbody tr th {\n",
       "        vertical-align: top;\n",
       "    }\n",
       "\n",
       "    .dataframe thead th {\n",
       "        text-align: right;\n",
       "    }\n",
       "</style>\n",
       "<table border=\"1\" class=\"dataframe\">\n",
       "  <thead>\n",
       "    <tr style=\"text-align: right;\">\n",
       "      <th></th>\n",
       "      <th>customer_ID</th>\n",
       "      <th>S_2</th>\n",
       "      <th>P_2</th>\n",
       "      <th>D_39</th>\n",
       "      <th>B_1</th>\n",
       "      <th>B_2</th>\n",
       "      <th>R_1</th>\n",
       "      <th>S_3</th>\n",
       "      <th>D_41</th>\n",
       "      <th>B_3</th>\n",
       "      <th>...</th>\n",
       "      <th>D_136</th>\n",
       "      <th>D_137</th>\n",
       "      <th>D_138</th>\n",
       "      <th>D_139</th>\n",
       "      <th>D_140</th>\n",
       "      <th>D_141</th>\n",
       "      <th>D_142</th>\n",
       "      <th>D_143</th>\n",
       "      <th>D_144</th>\n",
       "      <th>D_145</th>\n",
       "    </tr>\n",
       "  </thead>\n",
       "  <tbody>\n",
       "    <tr>\n",
       "      <th>0</th>\n",
       "      <td>0000099d6bd597052cdcda90ffabf56573fe9d7c79be5f...</td>\n",
       "      <td>2017-03-09</td>\n",
       "      <td>0.938469</td>\n",
       "      <td>0.001733</td>\n",
       "      <td>0.008724</td>\n",
       "      <td>1.006838</td>\n",
       "      <td>0.009228</td>\n",
       "      <td>0.124035</td>\n",
       "      <td>0.008771</td>\n",
       "      <td>0.004709</td>\n",
       "      <td>...</td>\n",
       "      <td>NaN</td>\n",
       "      <td>NaN</td>\n",
       "      <td>NaN</td>\n",
       "      <td>0.002427</td>\n",
       "      <td>0.003706</td>\n",
       "      <td>0.003818</td>\n",
       "      <td>NaN</td>\n",
       "      <td>0.000569</td>\n",
       "      <td>0.000610</td>\n",
       "      <td>0.002674</td>\n",
       "    </tr>\n",
       "    <tr>\n",
       "      <th>1</th>\n",
       "      <td>0000099d6bd597052cdcda90ffabf56573fe9d7c79be5f...</td>\n",
       "      <td>2017-04-07</td>\n",
       "      <td>0.936665</td>\n",
       "      <td>0.005775</td>\n",
       "      <td>0.004923</td>\n",
       "      <td>1.000653</td>\n",
       "      <td>0.006151</td>\n",
       "      <td>0.126750</td>\n",
       "      <td>0.000798</td>\n",
       "      <td>0.002714</td>\n",
       "      <td>...</td>\n",
       "      <td>NaN</td>\n",
       "      <td>NaN</td>\n",
       "      <td>NaN</td>\n",
       "      <td>0.003954</td>\n",
       "      <td>0.003167</td>\n",
       "      <td>0.005032</td>\n",
       "      <td>NaN</td>\n",
       "      <td>0.009576</td>\n",
       "      <td>0.005492</td>\n",
       "      <td>0.009217</td>\n",
       "    </tr>\n",
       "    <tr>\n",
       "      <th>2</th>\n",
       "      <td>0000099d6bd597052cdcda90ffabf56573fe9d7c79be5f...</td>\n",
       "      <td>2017-05-28</td>\n",
       "      <td>0.954180</td>\n",
       "      <td>0.091505</td>\n",
       "      <td>0.021655</td>\n",
       "      <td>1.009672</td>\n",
       "      <td>0.006815</td>\n",
       "      <td>0.123977</td>\n",
       "      <td>0.007598</td>\n",
       "      <td>0.009423</td>\n",
       "      <td>...</td>\n",
       "      <td>NaN</td>\n",
       "      <td>NaN</td>\n",
       "      <td>NaN</td>\n",
       "      <td>0.003269</td>\n",
       "      <td>0.007329</td>\n",
       "      <td>0.000427</td>\n",
       "      <td>NaN</td>\n",
       "      <td>0.003429</td>\n",
       "      <td>0.006986</td>\n",
       "      <td>0.002603</td>\n",
       "    </tr>\n",
       "    <tr>\n",
       "      <th>3</th>\n",
       "      <td>0000099d6bd597052cdcda90ffabf56573fe9d7c79be5f...</td>\n",
       "      <td>2017-06-13</td>\n",
       "      <td>0.960384</td>\n",
       "      <td>0.002455</td>\n",
       "      <td>0.013683</td>\n",
       "      <td>1.002700</td>\n",
       "      <td>0.001373</td>\n",
       "      <td>0.117169</td>\n",
       "      <td>0.000685</td>\n",
       "      <td>0.005531</td>\n",
       "      <td>...</td>\n",
       "      <td>NaN</td>\n",
       "      <td>NaN</td>\n",
       "      <td>NaN</td>\n",
       "      <td>0.006117</td>\n",
       "      <td>0.004516</td>\n",
       "      <td>0.003200</td>\n",
       "      <td>NaN</td>\n",
       "      <td>0.008419</td>\n",
       "      <td>0.006527</td>\n",
       "      <td>0.009600</td>\n",
       "    </tr>\n",
       "    <tr>\n",
       "      <th>4</th>\n",
       "      <td>0000099d6bd597052cdcda90ffabf56573fe9d7c79be5f...</td>\n",
       "      <td>2017-07-16</td>\n",
       "      <td>0.947248</td>\n",
       "      <td>0.002483</td>\n",
       "      <td>0.015193</td>\n",
       "      <td>1.000727</td>\n",
       "      <td>0.007605</td>\n",
       "      <td>0.117325</td>\n",
       "      <td>0.004653</td>\n",
       "      <td>0.009312</td>\n",
       "      <td>...</td>\n",
       "      <td>NaN</td>\n",
       "      <td>NaN</td>\n",
       "      <td>NaN</td>\n",
       "      <td>0.003671</td>\n",
       "      <td>0.004946</td>\n",
       "      <td>0.008889</td>\n",
       "      <td>NaN</td>\n",
       "      <td>0.001670</td>\n",
       "      <td>0.008126</td>\n",
       "      <td>0.009827</td>\n",
       "    </tr>\n",
       "  </tbody>\n",
       "</table>\n",
       "<p>5 rows × 190 columns</p>\n",
       "</div>"
      ],
      "text/plain": [
       "                                         customer_ID         S_2       P_2  \\\n",
       "0  0000099d6bd597052cdcda90ffabf56573fe9d7c79be5f...  2017-03-09  0.938469   \n",
       "1  0000099d6bd597052cdcda90ffabf56573fe9d7c79be5f...  2017-04-07  0.936665   \n",
       "2  0000099d6bd597052cdcda90ffabf56573fe9d7c79be5f...  2017-05-28  0.954180   \n",
       "3  0000099d6bd597052cdcda90ffabf56573fe9d7c79be5f...  2017-06-13  0.960384   \n",
       "4  0000099d6bd597052cdcda90ffabf56573fe9d7c79be5f...  2017-07-16  0.947248   \n",
       "\n",
       "       D_39       B_1       B_2       R_1       S_3      D_41       B_3  \\\n",
       "0  0.001733  0.008724  1.006838  0.009228  0.124035  0.008771  0.004709   \n",
       "1  0.005775  0.004923  1.000653  0.006151  0.126750  0.000798  0.002714   \n",
       "2  0.091505  0.021655  1.009672  0.006815  0.123977  0.007598  0.009423   \n",
       "3  0.002455  0.013683  1.002700  0.001373  0.117169  0.000685  0.005531   \n",
       "4  0.002483  0.015193  1.000727  0.007605  0.117325  0.004653  0.009312   \n",
       "\n",
       "     ...     D_136  D_137  D_138     D_139     D_140     D_141  D_142  \\\n",
       "0    ...       NaN    NaN    NaN  0.002427  0.003706  0.003818    NaN   \n",
       "1    ...       NaN    NaN    NaN  0.003954  0.003167  0.005032    NaN   \n",
       "2    ...       NaN    NaN    NaN  0.003269  0.007329  0.000427    NaN   \n",
       "3    ...       NaN    NaN    NaN  0.006117  0.004516  0.003200    NaN   \n",
       "4    ...       NaN    NaN    NaN  0.003671  0.004946  0.008889    NaN   \n",
       "\n",
       "      D_143     D_144     D_145  \n",
       "0  0.000569  0.000610  0.002674  \n",
       "1  0.009576  0.005492  0.009217  \n",
       "2  0.003429  0.006986  0.002603  \n",
       "3  0.008419  0.006527  0.009600  \n",
       "4  0.001670  0.008126  0.009827  \n",
       "\n",
       "[5 rows x 190 columns]"
      ]
     },
     "execution_count": 4,
     "metadata": {},
     "output_type": "execute_result"
    }
   ],
   "source": [
    "data.head()"
   ]
  },
  {
   "cell_type": "code",
   "execution_count": 5,
   "metadata": {},
   "outputs": [
    {
     "data": {
      "text/plain": [
       "5531451"
      ]
     },
     "execution_count": 5,
     "metadata": {},
     "output_type": "execute_result"
    }
   ],
   "source": [
    "len(data)"
   ]
  },
  {
   "cell_type": "code",
   "execution_count": 6,
   "metadata": {},
   "outputs": [
    {
     "data": {
      "text/plain": [
       "0          0000099d6bd597052cdcda90ffabf56573fe9d7c79be5f...\n",
       "1          0000099d6bd597052cdcda90ffabf56573fe9d7c79be5f...\n",
       "2          0000099d6bd597052cdcda90ffabf56573fe9d7c79be5f...\n",
       "3          0000099d6bd597052cdcda90ffabf56573fe9d7c79be5f...\n",
       "4          0000099d6bd597052cdcda90ffabf56573fe9d7c79be5f...\n",
       "5          0000099d6bd597052cdcda90ffabf56573fe9d7c79be5f...\n",
       "6          0000099d6bd597052cdcda90ffabf56573fe9d7c79be5f...\n",
       "7          0000099d6bd597052cdcda90ffabf56573fe9d7c79be5f...\n",
       "8          0000099d6bd597052cdcda90ffabf56573fe9d7c79be5f...\n",
       "9          0000099d6bd597052cdcda90ffabf56573fe9d7c79be5f...\n",
       "10         0000099d6bd597052cdcda90ffabf56573fe9d7c79be5f...\n",
       "11         0000099d6bd597052cdcda90ffabf56573fe9d7c79be5f...\n",
       "12         0000099d6bd597052cdcda90ffabf56573fe9d7c79be5f...\n",
       "13         00000fd6641609c6ece5454664794f0340ad84dddce9a2...\n",
       "14         00000fd6641609c6ece5454664794f0340ad84dddce9a2...\n",
       "15         00000fd6641609c6ece5454664794f0340ad84dddce9a2...\n",
       "16         00000fd6641609c6ece5454664794f0340ad84dddce9a2...\n",
       "17         00000fd6641609c6ece5454664794f0340ad84dddce9a2...\n",
       "18         00000fd6641609c6ece5454664794f0340ad84dddce9a2...\n",
       "19         00000fd6641609c6ece5454664794f0340ad84dddce9a2...\n",
       "20         00000fd6641609c6ece5454664794f0340ad84dddce9a2...\n",
       "21         00000fd6641609c6ece5454664794f0340ad84dddce9a2...\n",
       "22         00000fd6641609c6ece5454664794f0340ad84dddce9a2...\n",
       "23         00000fd6641609c6ece5454664794f0340ad84dddce9a2...\n",
       "24         00000fd6641609c6ece5454664794f0340ad84dddce9a2...\n",
       "25         00000fd6641609c6ece5454664794f0340ad84dddce9a2...\n",
       "26         00001b22f846c82c51f6e3958ccd81970162bae8b007e8...\n",
       "27         00001b22f846c82c51f6e3958ccd81970162bae8b007e8...\n",
       "28         00001b22f846c82c51f6e3958ccd81970162bae8b007e8...\n",
       "29         00001b22f846c82c51f6e3958ccd81970162bae8b007e8...\n",
       "                                 ...                        \n",
       "5531421    ffff9984b999fccb2b6127635ed0736dda94e544e67e02...\n",
       "5531422    ffff9984b999fccb2b6127635ed0736dda94e544e67e02...\n",
       "5531423    ffff9984b999fccb2b6127635ed0736dda94e544e67e02...\n",
       "5531424    ffff9984b999fccb2b6127635ed0736dda94e544e67e02...\n",
       "5531425    ffffa5c46bc8de74f5a4554e74e239c8dee6b9baf38814...\n",
       "5531426    ffffa5c46bc8de74f5a4554e74e239c8dee6b9baf38814...\n",
       "5531427    ffffa5c46bc8de74f5a4554e74e239c8dee6b9baf38814...\n",
       "5531428    ffffa5c46bc8de74f5a4554e74e239c8dee6b9baf38814...\n",
       "5531429    ffffa5c46bc8de74f5a4554e74e239c8dee6b9baf38814...\n",
       "5531430    ffffa5c46bc8de74f5a4554e74e239c8dee6b9baf38814...\n",
       "5531431    ffffa5c46bc8de74f5a4554e74e239c8dee6b9baf38814...\n",
       "5531432    ffffa5c46bc8de74f5a4554e74e239c8dee6b9baf38814...\n",
       "5531433    ffffa5c46bc8de74f5a4554e74e239c8dee6b9baf38814...\n",
       "5531434    ffffa5c46bc8de74f5a4554e74e239c8dee6b9baf38814...\n",
       "5531435    ffffa5c46bc8de74f5a4554e74e239c8dee6b9baf38814...\n",
       "5531436    ffffa5c46bc8de74f5a4554e74e239c8dee6b9baf38814...\n",
       "5531437    ffffa5c46bc8de74f5a4554e74e239c8dee6b9baf38814...\n",
       "5531438    fffff1d38b785cef84adeace64f8f83db3a0c31e8d92ea...\n",
       "5531439    fffff1d38b785cef84adeace64f8f83db3a0c31e8d92ea...\n",
       "5531440    fffff1d38b785cef84adeace64f8f83db3a0c31e8d92ea...\n",
       "5531441    fffff1d38b785cef84adeace64f8f83db3a0c31e8d92ea...\n",
       "5531442    fffff1d38b785cef84adeace64f8f83db3a0c31e8d92ea...\n",
       "5531443    fffff1d38b785cef84adeace64f8f83db3a0c31e8d92ea...\n",
       "5531444    fffff1d38b785cef84adeace64f8f83db3a0c31e8d92ea...\n",
       "5531445    fffff1d38b785cef84adeace64f8f83db3a0c31e8d92ea...\n",
       "5531446    fffff1d38b785cef84adeace64f8f83db3a0c31e8d92ea...\n",
       "5531447    fffff1d38b785cef84adeace64f8f83db3a0c31e8d92ea...\n",
       "5531448    fffff1d38b785cef84adeace64f8f83db3a0c31e8d92ea...\n",
       "5531449    fffff1d38b785cef84adeace64f8f83db3a0c31e8d92ea...\n",
       "5531450    fffff1d38b785cef84adeace64f8f83db3a0c31e8d92ea...\n",
       "Name: customer_ID, Length: 5531451, dtype: object"
      ]
     },
     "execution_count": 6,
     "metadata": {},
     "output_type": "execute_result"
    }
   ],
   "source": [
    "data.iloc[:,0]"
   ]
  },
  {
   "cell_type": "code",
   "execution_count": 7,
   "metadata": {},
   "outputs": [],
   "source": [
    "# For me this just executes indefinitely, but no errors thrown - I think computer at fault?\n",
    "data = data.set_index('customer_ID').join(labels.set_index('customer_ID'))"
   ]
  },
  {
   "cell_type": "code",
   "execution_count": 16,
   "metadata": {},
   "outputs": [],
   "source": [
    "data_subset = data.iloc[0:25000, :]\n",
    "data_subset.to_csv(\"subset2.csv\")"
   ]
  },
  {
   "cell_type": "code",
   "execution_count": 15,
   "metadata": {},
   "outputs": [
    {
     "data": {
      "text/plain": [
       "customer_ID\n",
       "0000099d6bd597052cdcda90ffabf56573fe9d7c79be5fbac11a8ed792feb62a    0\n",
       "0000099d6bd597052cdcda90ffabf56573fe9d7c79be5fbac11a8ed792feb62a    0\n",
       "0000099d6bd597052cdcda90ffabf56573fe9d7c79be5fbac11a8ed792feb62a    0\n",
       "0000099d6bd597052cdcda90ffabf56573fe9d7c79be5fbac11a8ed792feb62a    0\n",
       "Name: target, dtype: int64"
      ]
     },
     "execution_count": 15,
     "metadata": {},
     "output_type": "execute_result"
    }
   ],
   "source": [
    "data.iloc[0:4,-1]"
   ]
  },
  {
   "cell_type": "code",
   "execution_count": 14,
   "metadata": {},
   "outputs": [
    {
     "data": {
      "text/plain": [
       "Index(['S_2', 'P_2', 'D_39', 'B_1', 'B_2', 'R_1', 'S_3', 'D_41', 'B_3', 'D_42',\n",
       "       ...\n",
       "       'D_137', 'D_138', 'D_139', 'D_140', 'D_141', 'D_142', 'D_143', 'D_144',\n",
       "       'D_145', 'target'],\n",
       "      dtype='object', length=190)"
      ]
     },
     "execution_count": 14,
     "metadata": {},
     "output_type": "execute_result"
    }
   ],
   "source": [
    "data.columns"
   ]
  },
  {
   "cell_type": "code",
   "execution_count": null,
   "metadata": {},
   "outputs": [],
   "source": []
  }
 ],
 "metadata": {
  "kernelspec": {
   "display_name": "Python 3",
   "language": "python",
   "name": "python3"
  },
  "language_info": {
   "codemirror_mode": {
    "name": "ipython",
    "version": 3
   },
   "file_extension": ".py",
   "mimetype": "text/x-python",
   "name": "python",
   "nbconvert_exporter": "python",
   "pygments_lexer": "ipython3",
   "version": "3.7.1"
  }
 },
 "nbformat": 4,
 "nbformat_minor": 2
}
